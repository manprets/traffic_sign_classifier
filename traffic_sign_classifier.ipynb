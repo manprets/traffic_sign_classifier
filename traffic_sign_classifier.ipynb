{
 "cells": [
  {
   "cell_type": "markdown",
   "metadata": {},
   "source": [
    "# Self-Driving Car Engineer Nanodegree\n",
    "\n",
    "## Deep Learning\n",
    "\n",
    "## Project: Build a Traffic Sign Recognition Classifier\n",
    "\n",
    "In this notebook, a template is provided for you to implement your functionality in stages, which is required to successfully complete this project. If additional code is required that cannot be included in the notebook, be sure that the Python code is successfully imported and included in your submission if necessary. \n",
    "\n",
    "> **Note**: Once you have completed all of the code implementations, you need to finalize your work by exporting the iPython Notebook as an HTML document. Before exporting the notebook to html, all of the code cells need to have been run so that reviewers can see the final implementation and output. You can then export the notebook by using the menu above and navigating to  \\n\",\n",
    "    \"**File -> Download as -> HTML (.html)**. Include the finished document along with this notebook as your submission. \n",
    "\n",
    "In addition to implementing code, there is a writeup to complete. The writeup should be completed in a separate file, which can be either a markdown file or a pdf document. There is a [write up template](https://github.com/udacity/CarND-Traffic-Sign-Classifier-Project/blob/master/writeup_template.md) that can be used to guide the writing process. Completing the code template and writeup template will cover all of the [rubric points](https://review.udacity.com/#!/rubrics/481/view) for this project.\n",
    "\n",
    "The [rubric](https://review.udacity.com/#!/rubrics/481/view) contains \"Stand Out Suggestions\" for enhancing the project beyond the minimum requirements. The stand out suggestions are optional. If you decide to pursue the \"stand out suggestions\", you can include the code in this Ipython notebook and also discuss the results in the writeup file.\n",
    "\n",
    "\n",
    ">**Note:** Code and Markdown cells can be executed using the **Shift + Enter** keyboard shortcut. In addition, Markdown cells can be edited by typically double-clicking the cell to enter edit mode."
   ]
  },
  {
   "cell_type": "markdown",
   "metadata": {},
   "source": [
    "---\n",
    "## Step 0: Load The Data"
   ]
  },
  {
   "cell_type": "code",
   "execution_count": 1,
   "metadata": {
    "collapsed": false
   },
   "outputs": [
    {
     "data": {
      "text/plain": [
       "['train.p', 'test.p', 'valid.p', 'signnames.csv']"
      ]
     },
     "execution_count": 1,
     "metadata": {},
     "output_type": "execute_result"
    }
   ],
   "source": [
    "import os\n",
    "os.listdir('./data')"
   ]
  },
  {
   "cell_type": "code",
   "execution_count": 2,
   "metadata": {
    "collapsed": true
   },
   "outputs": [],
   "source": [
    "import numpy as np"
   ]
  },
  {
   "cell_type": "code",
   "execution_count": 47,
   "metadata": {
    "collapsed": false
   },
   "outputs": [],
   "source": [
    "# Load pickled data\n",
    "import pickle\n",
    "\n",
    "# TODO: Fill this in based on where you saved the training and testing data\n",
    "\n",
    "training_file = './data/train.p'\n",
    "validation_file= './data/valid.p'\n",
    "testing_file = './data/test.p'\n",
    "\n",
    "with open(training_file, mode='rb') as f:\n",
    "    train = pickle.load(f)\n",
    "with open(validation_file, mode='rb') as f:\n",
    "    valid = pickle.load(f)\n",
    "with open(testing_file, mode='rb') as f:\n",
    "    test = pickle.load(f)\n",
    "    \n",
    "X_train, y_train = train['features'], train['labels']\n",
    "X_valid, y_valid = valid['features'], valid['labels']\n",
    "X_test, y_test = test['features'], test['labels']"
   ]
  },
  {
   "cell_type": "markdown",
   "metadata": {},
   "source": [
    "---\n",
    "\n",
    "## Step 1: Dataset Summary & Exploration\n",
    "\n",
    "The pickled data is a dictionary with 4 key/value pairs:\n",
    "\n",
    "- `'features'` is a 4D array containing raw pixel data of the traffic sign images, (num examples, width, height, channels).\n",
    "- `'labels'` is a 1D array containing the label/class id of the traffic sign. The file `signnames.csv` contains id -> name mappings for each id.\n",
    "- `'sizes'` is a list containing tuples, (width, height) representing the original width and height the image.\n",
    "- `'coords'` is a list containing tuples, (x1, y1, x2, y2) representing coordinates of a bounding box around the sign in the image. **THESE COORDINATES ASSUME THE ORIGINAL IMAGE. THE PICKLED DATA CONTAINS RESIZED VERSIONS (32 by 32) OF THESE IMAGES**\n",
    "\n",
    "Complete the basic data summary below. Use python, numpy and/or pandas methods to calculate the data summary rather than hard coding the results. For example, the [pandas shape method](http://pandas.pydata.org/pandas-docs/stable/generated/pandas.DataFrame.shape.html) might be useful for calculating some of the summary results. "
   ]
  },
  {
   "cell_type": "code",
   "execution_count": 4,
   "metadata": {
    "collapsed": false
   },
   "outputs": [
    {
     "name": "stderr",
     "output_type": "stream",
     "text": [
      "/home/msingh/anaconda3/envs/tensorflow/lib/python3.5/site-packages/matplotlib/font_manager.py:280: UserWarning: Matplotlib is building the font cache using fc-list. This may take a moment.\n",
      "  'Matplotlib is building the font cache using fc-list. '\n"
     ]
    }
   ],
   "source": [
    "### Data exploration visualization code goes here.\n",
    "### Feel free to use as many code cells as needed.\n",
    "import matplotlib.pyplot as plt\n",
    "# Visualizations will be shown in the notebook.\n",
    "%matplotlib inline"
   ]
  },
  {
   "cell_type": "code",
   "execution_count": 5,
   "metadata": {
    "collapsed": false
   },
   "outputs": [
    {
     "name": "stdout",
     "output_type": "stream",
     "text": [
      "0 Speed limit (20km/h)\n",
      "1 Speed limit (30km/h)\n",
      "2 Speed limit (50km/h)\n",
      "3 Speed limit (60km/h)\n",
      "4 Speed limit (70km/h)\n",
      "5 Speed limit (80km/h)\n",
      "6 End of speed limit (80km/h)\n",
      "7 Speed limit (100km/h)\n",
      "8 Speed limit (120km/h)\n",
      "9 No passing\n",
      "10 No passing for vehicles over 3.5 metric tons\n",
      "11 Right-of-way at the next intersection\n",
      "12 Priority road\n",
      "13 Yield\n",
      "14 Stop\n",
      "15 No vehicles\n",
      "16 Vehicles over 3.5 metric tons prohibited\n",
      "17 No entry\n",
      "18 General caution\n",
      "19 Dangerous curve to the left\n",
      "20 Dangerous curve to the right\n",
      "21 Double curve\n",
      "22 Bumpy road\n",
      "23 Slippery road\n",
      "24 Road narrows on the right\n",
      "25 Road work\n",
      "26 Traffic signals\n",
      "27 Pedestrians\n",
      "28 Children crossing\n",
      "29 Bicycles crossing\n",
      "30 Beware of ice/snow\n",
      "31 Wild animals crossing\n",
      "32 End of all speed and passing limits\n",
      "33 Turn right ahead\n",
      "34 Turn left ahead\n",
      "35 Ahead only\n",
      "36 Go straight or right\n",
      "37 Go straight or left\n",
      "38 Keep right\n",
      "39 Keep left\n",
      "40 Roundabout mandatory\n",
      "41 End of no passing\n",
      "42 End of no passing by vehicles over 3.5 metric tons\n"
     ]
    }
   ],
   "source": [
    "import csv\n",
    "labels_dict = {}\n",
    "with open('./data/signnames.csv') as csvfile:\n",
    "    reader = csv.DictReader(csvfile)\n",
    "    for row in reader:\n",
    "        print(row['ClassId'], row['SignName'])\n",
    "        labels_dict[int(row['ClassId'])] = row['SignName']"
   ]
  },
  {
   "cell_type": "code",
   "execution_count": 6,
   "metadata": {
    "collapsed": false
   },
   "outputs": [
    {
     "data": {
      "text/plain": [
       "dict_keys(['sizes', 'labels', 'coords', 'features'])"
      ]
     },
     "execution_count": 6,
     "metadata": {},
     "output_type": "execute_result"
    }
   ],
   "source": [
    "train.keys()"
   ]
  },
  {
   "cell_type": "code",
   "execution_count": 7,
   "metadata": {
    "collapsed": false
   },
   "outputs": [
    {
     "name": "stdout",
     "output_type": "stream",
     "text": [
      "[32 31]\n",
      "[ 6  5 27 26]\n",
      "End of no passing\n"
     ]
    },
    {
     "data": {
      "text/plain": [
       "<matplotlib.image.AxesImage at 0x7f28749dbf60>"
      ]
     },
     "execution_count": 7,
     "metadata": {},
     "output_type": "execute_result"
    },
    {
     "data": {
      "image/png": "[encoded data removed]",
      "text/plain": [
       "<matplotlib.figure.Figure at 0x7f2874c4e438>"
      ]
     },
     "metadata": {},
     "output_type": "display_data"
    }
   ],
   "source": [
    "sample = 9\n",
    "print(train['sizes'][sample])\n",
    "cords = train['coords'][sample]\n",
    "print(cords)\n",
    "print(labels_dict[train['labels'][sample]])\n",
    "\n",
    "img=train['features'][sample]\n",
    "#img=img.crop((cords[0],cords[1],cords[2],cords[3]))\n",
    "plt.imshow(img)"
   ]
  },
  {
   "cell_type": "code",
   "execution_count": 8,
   "metadata": {
    "collapsed": false
   },
   "outputs": [
    {
     "name": "stdout",
     "output_type": "stream",
     "text": [
      "(32, 32, 3)\n"
     ]
    }
   ],
   "source": [
    "print(img.shape)"
   ]
  },
  {
   "cell_type": "code",
   "execution_count": 9,
   "metadata": {
    "collapsed": false
   },
   "outputs": [
    {
     "name": "stdout",
     "output_type": "stream",
     "text": [
      "[31 30]\n",
      "[ 6  6 26 25]\n",
      "Wild animals crossing\n"
     ]
    },
    {
     "data": {
      "text/plain": [
       "<matplotlib.image.AxesImage at 0x7f287490d8d0>"
      ]
     },
     "execution_count": 9,
     "metadata": {},
     "output_type": "execute_result"
    },
    {
     "data": {
      "image/png": "[encoded data removed]",
      "text/plain": [
       "<matplotlib.figure.Figure at 0x7f2874963b70>"
      ]
     },
     "metadata": {},
     "output_type": "display_data"
    }
   ],
   "source": [
    "sample = 300\n",
    "print(train['sizes'][sample])\n",
    "cords = train['coords'][sample]\n",
    "print(cords)\n",
    "print(labels_dict[train['labels'][sample]])\n",
    "\n",
    "img=train['features'][sample]\n",
    "#img=img.crop((cords[0],cords[1],cords[2],cords[3]))\n",
    "plt.imshow(img)"
   ]
  },
  {
   "cell_type": "code",
   "execution_count": 10,
   "metadata": {
    "collapsed": false
   },
   "outputs": [
    {
     "name": "stdout",
     "output_type": "stream",
     "text": [
      "(32, 32, 3)\n"
     ]
    }
   ],
   "source": [
    "print(img.shape)"
   ]
  },
  {
   "cell_type": "code",
   "execution_count": 11,
   "metadata": {
    "collapsed": false
   },
   "outputs": [
    {
     "data": {
      "text/plain": [
       "(34799, 32, 32, 3)"
      ]
     },
     "execution_count": 11,
     "metadata": {},
     "output_type": "execute_result"
    }
   ],
   "source": [
    "X_train.shape"
   ]
  },
  {
   "cell_type": "code",
   "execution_count": 12,
   "metadata": {
    "collapsed": false
   },
   "outputs": [
    {
     "data": {
      "text/plain": [
       "(32, 32, 3)"
      ]
     },
     "execution_count": 12,
     "metadata": {},
     "output_type": "execute_result"
    }
   ],
   "source": [
    "X_train[0].shape"
   ]
  },
  {
   "cell_type": "code",
   "execution_count": 13,
   "metadata": {
    "collapsed": false
   },
   "outputs": [
    {
     "data": {
      "text/plain": [
       "43"
      ]
     },
     "execution_count": 13,
     "metadata": {},
     "output_type": "execute_result"
    }
   ],
   "source": [
    "len(np.unique(y_train))"
   ]
  },
  {
   "cell_type": "code",
   "execution_count": 14,
   "metadata": {
    "collapsed": false
   },
   "outputs": [
    {
     "data": {
      "text/plain": [
       "43"
      ]
     },
     "execution_count": 14,
     "metadata": {},
     "output_type": "execute_result"
    }
   ],
   "source": [
    "len(np.unique(y_test))"
   ]
  },
  {
   "cell_type": "code",
   "execution_count": 15,
   "metadata": {
    "collapsed": false
   },
   "outputs": [
    {
     "data": {
      "text/plain": [
       "43"
      ]
     },
     "execution_count": 15,
     "metadata": {},
     "output_type": "execute_result"
    }
   ],
   "source": [
    "len(labels_dict.keys())"
   ]
  },
  {
   "cell_type": "markdown",
   "metadata": {},
   "source": [
    "### Provide a Basic Summary of the Data Set Using Python, Numpy and/or Pandas"
   ]
  },
  {
   "cell_type": "code",
   "execution_count": 97,
   "metadata": {
    "collapsed": false
   },
   "outputs": [
    {
     "name": "stdout",
     "output_type": "stream",
     "text": [
      "Number of training examples = 34799\n",
      "Number of validation examples = 4410\n",
      "Number of testing examples = 12630\n",
      "Image data shape = (32, 32, 3)\n",
      "Number of classes = 43\n"
     ]
    }
   ],
   "source": [
    "### Replace each question mark with the appropriate value. \n",
    "### Use python, pandas or numpy methods rather than hard coding the results\n",
    "\n",
    "# TODO: Number of training examples\n",
    "n_train = X_train.shape[0]\n",
    "\n",
    "n_valid = X_valid.shape[0]\n",
    "\n",
    "# TODO: Number of testing examples.\n",
    "n_test = X_test.shape[0]\n",
    "\n",
    "# TODO: What's the shape of an traffic sign image?\n",
    "image_shape = X_train[0].shape\n",
    "\n",
    "# TODO: How many unique classes/labels there are in the dataset.\n",
    "n_classes = len(np.unique(y_train))\n",
    "\n",
    "print(\"Number of training examples =\", n_train)\n",
    "print(\"Number of validation examples =\", n_valid)\n",
    "print(\"Number of testing examples =\", n_test)\n",
    "print(\"Image data shape =\", image_shape)\n",
    "print(\"Number of classes =\", n_classes)"
   ]
  },
  {
   "cell_type": "markdown",
   "metadata": {},
   "source": [
    "### Include an exploratory visualization of the dataset"
   ]
  },
  {
   "cell_type": "markdown",
   "metadata": {},
   "source": [
    "Visualize the German Traffic Signs Dataset using the pickled file(s). This is open ended, suggestions include: plotting traffic sign images, plotting the count of each sign, etc.\n",
    "\n",
    "The [Matplotlib](http://matplotlib.org/) [examples](http://matplotlib.org/examples/index.html) and [gallery](http://matplotlib.org/gallery.html) pages are a great resource for doing visualizations in Python.\n",
    "\n",
    "**NOTE:** It's recommended you start with something simple first. If you wish to do more, come back to it after you've completed the rest of the sections."
   ]
  },
  {
   "cell_type": "code",
   "execution_count": 17,
   "metadata": {
    "collapsed": false
   },
   "outputs": [
    {
     "name": "stdout",
     "output_type": "stream",
     "text": [
      "{0: 180, 1: 1980, 2: 2010, 3: 1260, 4: 1770, 5: 1650, 6: 360, 7: 1290, 8: 1260, 9: 1320, 10: 1800, 11: 1170, 12: 1890, 13: 1920, 14: 690, 15: 540, 16: 360, 17: 990, 18: 1080, 19: 180, 20: 300, 21: 270, 22: 330, 23: 450, 24: 240, 25: 1350, 26: 540, 27: 210, 28: 480, 29: 240, 30: 390, 31: 690, 32: 210, 33: 599, 34: 360, 35: 1080, 36: 330, 37: 180, 38: 1860, 39: 270, 40: 300, 41: 210, 42: 210}\n"
     ]
    }
   ],
   "source": [
    "# get counts of each label in train set\n",
    "label_counts={}\n",
    "for label in y_train:\n",
    "    if label in label_counts.keys():\n",
    "        label_counts[label] += 1\n",
    "    else:\n",
    "        label_counts[label] = 1\n",
    "\n",
    "# print count of each label in train set\n",
    "print(label_counts)"
   ]
  },
  {
   "cell_type": "code",
   "execution_count": 18,
   "metadata": {
    "collapsed": false
   },
   "outputs": [
    {
     "data": {
      "text/plain": [
       "dict_values([180, 1980, 2010, 1260, 1770, 1650, 360, 1290, 1260, 1320, 1800, 1170, 1890, 1920, 690, 540, 360, 990, 1080, 180, 300, 270, 330, 450, 240, 1350, 540, 210, 480, 240, 390, 690, 210, 599, 360, 1080, 330, 180, 1860, 270, 300, 210, 210])"
      ]
     },
     "execution_count": 18,
     "metadata": {},
     "output_type": "execute_result"
    }
   ],
   "source": [
    "label_counts.values()"
   ]
  },
  {
   "cell_type": "code",
   "execution_count": 19,
   "metadata": {
    "collapsed": false
   },
   "outputs": [
    {
     "data": {
      "image/png": "[encoded data removed]",
      "text/plain": [
       "<matplotlib.figure.Figure at 0x7f287495bf28>"
      ]
     },
     "metadata": {},
     "output_type": "display_data"
    }
   ],
   "source": [
    "#draw a graph \n",
    "width = 1/1.5\n",
    "plt.bar(range(n_classes),label_counts.values(), width, color=\"blue\")\n",
    "plt.title('Histogram of Label Counts')\n",
    "plt.xlabel('labels')\n",
    "plt.ylabel('counts')\n",
    "fig = plt.gcf()"
   ]
  },
  {
   "cell_type": "code",
   "execution_count": 20,
   "metadata": {
    "collapsed": false
   },
   "outputs": [
    {
     "name": "stdout",
     "output_type": "stream",
     "text": [
      "label \t count \t desc\n",
      "0 \t 180 \t Speed limit (20km/h)\n",
      "6 \t 360 \t End of speed limit (80km/h)\n",
      "16 \t 360 \t Vehicles over 3.5 metric tons prohibited\n",
      "19 \t 180 \t Dangerous curve to the left\n",
      "20 \t 300 \t Dangerous curve to the right\n",
      "21 \t 270 \t Double curve\n",
      "22 \t 330 \t Bumpy road\n",
      "23 \t 450 \t Slippery road\n",
      "24 \t 240 \t Road narrows on the right\n",
      "27 \t 210 \t Pedestrians\n",
      "28 \t 480 \t Children crossing\n",
      "29 \t 240 \t Bicycles crossing\n",
      "30 \t 390 \t Beware of ice/snow\n",
      "32 \t 210 \t End of all speed and passing limits\n",
      "34 \t 360 \t Turn left ahead\n",
      "36 \t 330 \t Go straight or right\n",
      "37 \t 180 \t Go straight or left\n",
      "39 \t 270 \t Keep left\n",
      "40 \t 300 \t Roundabout mandatory\n",
      "41 \t 210 \t End of no passing\n",
      "42 \t 210 \t End of no passing by vehicles over 3.5 metric tons\n"
     ]
    }
   ],
   "source": [
    "# list all labels with less than 500 images\n",
    "print('label','\\t', 'count','\\t','desc')\n",
    "for label in label_counts.keys():\n",
    "    if label_counts[label]<500:\n",
    "        print(label,'\\t', label_counts[label], '\\t', labels_dict[label])"
   ]
  },
  {
   "cell_type": "code",
   "execution_count": 21,
   "metadata": {
    "collapsed": true
   },
   "outputs": [],
   "source": [
    "# Above lables may need artificial data\n",
    "# Can perform if validation accuracy is below desired level"
   ]
  },
  {
   "cell_type": "markdown",
   "metadata": {},
   "source": [
    "----\n",
    "\n",
    "## Step 2: Design and Test a Model Architecture\n",
    "\n",
    "Design and implement a deep learning model that learns to recognize traffic signs. Train and test your model on the [German Traffic Sign Dataset](http://benchmark.ini.rub.de/?section=gtsrb&subsection=dataset).\n",
    "\n",
    "The LeNet-5 implementation shown in the [classroom](https://classroom.udacity.com/nanodegrees/nd013/parts/fbf77062-5703-404e-b60c-95b78b2f3f9e/modules/6df7ae49-c61c-4bb2-a23e-6527e69209ec/lessons/601ae704-1035-4287-8b11-e2c2716217ad/concepts/d4aca031-508f-4e0b-b493-e7b706120f81) at the end of the CNN lesson is a solid starting point. You'll have to change the number of classes and possibly the preprocessing, but aside from that it's plug and play! \n",
    "\n",
    "With the LeNet-5 solution from the lecture, you should expect a validation set accuracy of about 0.89. To meet specifications, the validation set accuracy will need to be at least 0.93. It is possible to get an even higher accuracy, but 0.93 is the minimum for a successful project submission. \n",
    "\n",
    "There are various aspects to consider when thinking about this problem:\n",
    "\n",
    "- Neural network architecture (is the network over or underfitting?)\n",
    "- Play around preprocessing techniques (normalization, rgb to grayscale, etc)\n",
    "- Number of examples per label (some have more than others).\n",
    "- Generate fake data.\n",
    "\n",
    "Here is an example of a [published baseline model on this problem](http://yann.lecun.com/exdb/publis/pdf/sermanet-ijcnn-11.pdf). It's not required to be familiar with the approach used in the paper but, it's good practice to try to read papers like these."
   ]
  },
  {
   "cell_type": "markdown",
   "metadata": {},
   "source": [
    "### Pre-process the Data Set (normalization, grayscale, etc.)"
   ]
  },
  {
   "cell_type": "markdown",
   "metadata": {},
   "source": [
    "Use the code cell (or multiple code cells, if necessary) to implement the first step of your project."
   ]
  },
  {
   "cell_type": "code",
   "execution_count": 22,
   "metadata": {
    "collapsed": true
   },
   "outputs": [],
   "source": [
    "### Preprocess the data here. Preprocessing steps could include normalization, converting to grayscale, etc.\n",
    "### Feel free to use as many code cells as needed."
   ]
  },
  {
   "cell_type": "code",
   "execution_count": 51,
   "metadata": {
    "collapsed": false
   },
   "outputs": [
    {
     "data": {
      "text/plain": [
       "(255, 0)"
      ]
     },
     "execution_count": 51,
     "metadata": {},
     "output_type": "execute_result"
    }
   ],
   "source": [
    "X_train.max(),X_train.min()"
   ]
  },
  {
   "cell_type": "code",
   "execution_count": 53,
   "metadata": {
    "collapsed": true
   },
   "outputs": [],
   "source": [
    "a=X_train[0][0]"
   ]
  },
  {
   "cell_type": "code",
   "execution_count": 54,
   "metadata": {
    "collapsed": false,
    "scrolled": true
   },
   "outputs": [
    {
     "data": {
      "text/plain": [
       "array([[28, 25, 24],\n",
       "       [27, 24, 23],\n",
       "       [27, 24, 22],\n",
       "       [27, 24, 22],\n",
       "       [27, 25, 23],\n",
       "       [29, 27, 25],\n",
       "       [49, 39, 37],\n",
       "       [53, 33, 31],\n",
       "       [49, 28, 28],\n",
       "       [54, 41, 42],\n",
       "       [80, 75, 78],\n",
       "       [92, 91, 96],\n",
       "       [72, 76, 83],\n",
       "       [68, 74, 83],\n",
       "       [81, 87, 94],\n",
       "       [91, 97, 94],\n",
       "       [78, 81, 67],\n",
       "       [65, 65, 58],\n",
       "       [53, 50, 50],\n",
       "       [49, 43, 47],\n",
       "       [59, 49, 52],\n",
       "       [76, 55, 57],\n",
       "       [65, 32, 34],\n",
       "       [63, 32, 35],\n",
       "       [60, 37, 38],\n",
       "       [51, 34, 33],\n",
       "       [41, 29, 24],\n",
       "       [36, 28, 24],\n",
       "       [34, 28, 24],\n",
       "       [32, 28, 24],\n",
       "       [31, 27, 25],\n",
       "       [31, 27, 26]], dtype=uint8)"
      ]
     },
     "execution_count": 54,
     "metadata": {},
     "output_type": "execute_result"
    }
   ],
   "source": [
    "a"
   ]
  },
  {
   "cell_type": "code",
   "execution_count": 55,
   "metadata": {
    "collapsed": false,
    "scrolled": true
   },
   "outputs": [
    {
     "data": {
      "text/plain": [
       "array([[-0.390625  , -0.40234375, -0.40625   ],\n",
       "       [-0.39453125, -0.40625   , -0.41015625],\n",
       "       [-0.39453125, -0.40625   , -0.4140625 ],\n",
       "       [-0.39453125, -0.40625   , -0.4140625 ],\n",
       "       [-0.39453125, -0.40234375, -0.41015625],\n",
       "       [-0.38671875, -0.39453125, -0.40234375],\n",
       "       [-0.30859375, -0.34765625, -0.35546875],\n",
       "       [-0.29296875, -0.37109375, -0.37890625],\n",
       "       [-0.30859375, -0.390625  , -0.390625  ],\n",
       "       [-0.2890625 , -0.33984375, -0.3359375 ],\n",
       "       [-0.1875    , -0.20703125, -0.1953125 ],\n",
       "       [-0.140625  , -0.14453125, -0.125     ],\n",
       "       [-0.21875   , -0.203125  , -0.17578125],\n",
       "       [-0.234375  , -0.2109375 , -0.17578125],\n",
       "       [-0.18359375, -0.16015625, -0.1328125 ],\n",
       "       [-0.14453125, -0.12109375, -0.1328125 ],\n",
       "       [-0.1953125 , -0.18359375, -0.23828125],\n",
       "       [-0.24609375, -0.24609375, -0.2734375 ],\n",
       "       [-0.29296875, -0.3046875 , -0.3046875 ],\n",
       "       [-0.30859375, -0.33203125, -0.31640625],\n",
       "       [-0.26953125, -0.30859375, -0.296875  ],\n",
       "       [-0.203125  , -0.28515625, -0.27734375],\n",
       "       [-0.24609375, -0.375     , -0.3671875 ],\n",
       "       [-0.25390625, -0.375     , -0.36328125],\n",
       "       [-0.265625  , -0.35546875, -0.3515625 ],\n",
       "       [-0.30078125, -0.3671875 , -0.37109375],\n",
       "       [-0.33984375, -0.38671875, -0.40625   ],\n",
       "       [-0.359375  , -0.390625  , -0.40625   ],\n",
       "       [-0.3671875 , -0.390625  , -0.40625   ],\n",
       "       [-0.375     , -0.390625  , -0.40625   ],\n",
       "       [-0.37890625, -0.39453125, -0.40234375],\n",
       "       [-0.37890625, -0.39453125, -0.3984375 ]])"
      ]
     },
     "execution_count": 55,
     "metadata": {},
     "output_type": "execute_result"
    }
   ],
   "source": [
    "# normalize X\n",
    "a=(a-128.0)/256.0\n",
    "a"
   ]
  },
  {
   "cell_type": "code",
   "execution_count": 56,
   "metadata": {
    "collapsed": true
   },
   "outputs": [],
   "source": [
    "X_train = (X_train-128.0)/256.0\n",
    "X_valid = (X_valid-128.0)/256.0\n",
    "X_test  = (X_test -128.0)/256.0"
   ]
  },
  {
   "cell_type": "code",
   "execution_count": 110,
   "metadata": {
    "collapsed": true
   },
   "outputs": [],
   "source": [
    "X_train, y_train = shuffle(X_train, y_train)\n",
    "X_valid, y_valid = shuffle(X_valid, y_valid)\n",
    "X_test,  y_test  = shuffle(X_test,  y_test )"
   ]
  },
  {
   "cell_type": "code",
   "execution_count": 57,
   "metadata": {
    "collapsed": false
   },
   "outputs": [
    {
     "data": {
      "text/plain": [
       "(0.49609375, -0.5)"
      ]
     },
     "execution_count": 57,
     "metadata": {},
     "output_type": "execute_result"
    }
   ],
   "source": [
    "X_train.max(),X_train.min()"
   ]
  },
  {
   "cell_type": "code",
   "execution_count": 45,
   "metadata": {
    "collapsed": false
   },
   "outputs": [
    {
     "data": {
      "text/plain": [
       "numpy.ndarray"
      ]
     },
     "execution_count": 45,
     "metadata": {},
     "output_type": "execute_result"
    }
   ],
   "source": [
    "type(X_train)"
   ]
  },
  {
   "cell_type": "code",
   "execution_count": 46,
   "metadata": {
    "collapsed": false
   },
   "outputs": [
    {
     "data": {
      "text/plain": [
       "array([[ 0.609375  ,  0.59765625,  0.59375   ],\n",
       "       [ 0.60546875,  0.59375   ,  0.58984375],\n",
       "       [ 0.60546875,  0.59375   ,  0.5859375 ],\n",
       "       [ 0.60546875,  0.59375   ,  0.5859375 ],\n",
       "       [ 0.60546875,  0.59765625,  0.58984375],\n",
       "       [ 0.61328125,  0.60546875,  0.59765625],\n",
       "       [ 0.69140625,  0.65234375,  0.64453125],\n",
       "       [ 0.70703125,  0.62890625,  0.62109375],\n",
       "       [ 0.69140625,  0.609375  ,  0.609375  ],\n",
       "       [ 0.7109375 ,  0.66015625,  0.6640625 ],\n",
       "       [ 0.8125    ,  0.79296875,  0.8046875 ],\n",
       "       [ 0.859375  ,  0.85546875,  0.875     ],\n",
       "       [ 0.78125   ,  0.796875  ,  0.82421875],\n",
       "       [ 0.765625  ,  0.7890625 ,  0.82421875],\n",
       "       [ 0.81640625,  0.83984375,  0.8671875 ],\n",
       "       [ 0.85546875,  0.87890625,  0.8671875 ],\n",
       "       [ 0.8046875 ,  0.81640625,  0.76171875],\n",
       "       [ 0.75390625,  0.75390625,  0.7265625 ],\n",
       "       [ 0.70703125,  0.6953125 ,  0.6953125 ],\n",
       "       [ 0.69140625,  0.66796875,  0.68359375],\n",
       "       [ 0.73046875,  0.69140625,  0.703125  ],\n",
       "       [ 0.796875  ,  0.71484375,  0.72265625],\n",
       "       [ 0.75390625,  0.625     ,  0.6328125 ],\n",
       "       [ 0.74609375,  0.625     ,  0.63671875],\n",
       "       [ 0.734375  ,  0.64453125,  0.6484375 ],\n",
       "       [ 0.69921875,  0.6328125 ,  0.62890625],\n",
       "       [ 0.66015625,  0.61328125,  0.59375   ],\n",
       "       [ 0.640625  ,  0.609375  ,  0.59375   ],\n",
       "       [ 0.6328125 ,  0.609375  ,  0.59375   ],\n",
       "       [ 0.625     ,  0.609375  ,  0.59375   ],\n",
       "       [ 0.62109375,  0.60546875,  0.59765625],\n",
       "       [ 0.62109375,  0.60546875,  0.6015625 ]])"
      ]
     },
     "execution_count": 46,
     "metadata": {},
     "output_type": "execute_result"
    }
   ],
   "source": [
    "X_train[0][0]"
   ]
  },
  {
   "cell_type": "code",
   "execution_count": 64,
   "metadata": {
    "collapsed": false
   },
   "outputs": [
    {
     "data": {
      "text/plain": [
       "numpy.float64"
      ]
     },
     "execution_count": 64,
     "metadata": {},
     "output_type": "execute_result"
    }
   ],
   "source": [
    "type(X_train[0][0][0][0])"
   ]
  },
  {
   "cell_type": "code",
   "execution_count": null,
   "metadata": {
    "collapsed": true
   },
   "outputs": [],
   "source": []
  },
  {
   "cell_type": "code",
   "execution_count": null,
   "metadata": {
    "collapsed": true
   },
   "outputs": [],
   "source": []
  },
  {
   "cell_type": "code",
   "execution_count": 58,
   "metadata": {
    "collapsed": false
   },
   "outputs": [],
   "source": [
    "### Define your architecture here.\n",
    "### Feel free to use as many code cells as needed.\n",
    "import tensorflow as tf\n",
    "from sklearn.utils import shuffle\n",
    "from tensorflow.contrib.layers import flatten\n",
    "import time as t"
   ]
  },
  {
   "cell_type": "code",
   "execution_count": 111,
   "metadata": {
    "collapsed": false
   },
   "outputs": [],
   "source": [
    "image_size = image_shape[0]\n",
    "num_labels = n_classes\n",
    "num_channels = image_shape[2] # color\n",
    "\n",
    "batch_size = 64\n",
    "patch_size = 5\n",
    "depth1 = 16\n",
    "depth2 = 32\n",
    "depth3 = 64\n",
    "num_hidden1 = 64\n",
    "#num_hidden2 = 16\n",
    "\n",
    "dropout = 0.5\n",
    "\n",
    "graph = tf.Graph()\n",
    "\n",
    "with graph.as_default():\n",
    "\n",
    "    # Input data.\n",
    "    tf_train_dataset = tf.placeholder(tf.float32, shape=(batch_size, image_size, image_size, num_channels))\n",
    "    tf_train_labels  = tf.placeholder(tf.int32, shape=(batch_size))\n",
    "    tf_valid_dataset = tf.constant(X_valid, dtype=tf.float32)\n",
    "    tf_test_dataset  = tf.constant(X_test, dtype=tf.float32)\n",
    "  \n",
    "    # Variables.\n",
    "    layer1_weights = tf.Variable(tf.truncated_normal([patch_size, patch_size, num_channels, depth1], stddev=0.1))\n",
    "    layer1_biases  = tf.Variable(tf.constant(1.0, shape=[depth1]))\n",
    "    layer2_weights = tf.Variable(tf.truncated_normal([patch_size, patch_size, depth1, depth2], stddev=0.1))\n",
    "    layer2_biases  = tf.Variable(tf.constant(1.0, shape=[depth2]))\n",
    "    layer3_weights = tf.Variable(tf.truncated_normal([patch_size, patch_size, depth2, num_hidden1], stddev=0.1))\n",
    "    layer3_biases  = tf.Variable(tf.constant(1.0, shape=[num_hidden1]))\n",
    "    \n",
    "    # Read Out layer\n",
    "    out1_w = tf.Variable(tf.truncated_normal([num_hidden1, num_labels], stddev=0.1))\n",
    "    out1_b = tf.Variable(tf.constant(1.0, shape=[num_labels]))\n",
    "    #out2_w = tf.Variable(tf.truncated_normal([num_hidden1, num_labels], stddev=0.1))\n",
    "    #out2_b = tf.Variable(tf.constant(1.0, shape=[num_labels]))\n",
    "  \n",
    "    # Model.\n",
    "    def model(data, keep_prob=1.0):\n",
    "        h_conv1 = tf.nn.relu(tf.nn.conv2d(data, layer1_weights, [1,1,1,1], 'VALID') + layer1_biases)\n",
    "        h_pool1 = tf.nn.max_pool(h_conv1, [1,2,2,1], [1,2,2,1], 'SAME')\n",
    "        \n",
    "        h_conv2 = tf.nn.relu(tf.nn.conv2d(h_pool1, layer2_weights, [1,1,1,1], 'VALID') + layer2_biases)\n",
    "        h_pool2 = tf.nn.max_pool(h_conv2, [1,2,2,1], [1,2,2,1], 'SAME')\n",
    "        \n",
    "        h_conv3 = tf.nn.relu(tf.nn.conv2d(h_pool2, layer3_weights, [1,1,1,1], 'VALID') + layer3_biases)\n",
    "        \n",
    "        hidden = tf.nn.dropout(h_conv3, keep_prob)\n",
    "\n",
    "        shape = hidden.get_shape().as_list()\n",
    "        reshape = tf.reshape(hidden, [shape[0], shape[1] * shape[2] * shape[3]])\n",
    "        \n",
    "        logits = tf.matmul(reshape, out1_w) + out1_b\n",
    "        return logits\n",
    "  \n",
    "    # Training computation.\n",
    "    logits = model(tf_train_dataset, dropout)\n",
    "    \n",
    "    loss = tf.reduce_mean(tf.nn.sparse_softmax_cross_entropy_with_logits(logits=logits,labels=tf_train_labels))\n",
    "    \n",
    "    # Optimizer.\n",
    "    #optimizer = tf.train.AdagradOptimizer(0.01).minimize(loss)\n",
    "    global_step = tf.Variable(0)\n",
    "    learning_rate = tf.train.exponential_decay(0.05, global_step, 10000, 0.95)\n",
    "    optimizer = tf.train.AdagradOptimizer(learning_rate).minimize(loss, global_step=global_step)\n",
    "\n",
    "    # Predictions for the training, validation, and test data.\n",
    "    tr_logits = model(tf_train_dataset)\n",
    "    train_prediction = tf.nn.softmax(tr_logits)\n",
    "    \n",
    "    v_logits = model(tf_valid_dataset)\n",
    "    valid_prediction = tf.nn.softmax(v_logits)\n",
    "    \n",
    "    te_logits = model(tf_test_dataset)\n",
    "    test_prediction = tf.nn.softmax(te_logits)\n",
    "    saver = tf.train.Saver()"
   ]
  },
  {
   "cell_type": "code",
   "execution_count": 112,
   "metadata": {
    "collapsed": false,
    "scrolled": true
   },
   "outputs": [
    {
     "name": "stdout",
     "output_type": "stream",
     "text": [
      "Initialized\n",
      "Step: 0, Minibatch loss: 10.282181, Minibatch acc: 0.062%, Validation acc: 0.020%\n",
      "Step: 500, Minibatch loss: 1.115304, Minibatch acc: 0.750%, Validation acc: 0.677%\n",
      "Step: 1000, Minibatch loss: 1.067287, Minibatch acc: 0.859%, Validation acc: 0.798%\n",
      "Step: 1500, Minibatch loss: 0.608516, Minibatch acc: 0.922%, Validation acc: 0.841%\n",
      "Step: 2000, Minibatch loss: 0.628274, Minibatch acc: 0.906%, Validation acc: 0.866%\n",
      "Step: 2500, Minibatch loss: 0.665074, Minibatch acc: 0.969%, Validation acc: 0.881%\n",
      "Step: 3000, Minibatch loss: 0.557625, Minibatch acc: 0.953%, Validation acc: 0.878%\n",
      "Step: 3500, Minibatch loss: 0.528746, Minibatch acc: 0.938%, Validation acc: 0.907%\n",
      "Step: 4000, Minibatch loss: 0.517480, Minibatch acc: 0.984%, Validation acc: 0.907%\n",
      "Step: 4500, Minibatch loss: 0.392602, Minibatch acc: 0.969%, Validation acc: 0.915%\n",
      "Step: 5000, Minibatch loss: 0.274772, Minibatch acc: 0.969%, Validation acc: 0.924%\n",
      "Step: 5500, Minibatch loss: 0.173192, Minibatch acc: 0.969%, Validation acc: 0.917%\n",
      "Step: 6000, Minibatch loss: 0.142396, Minibatch acc: 1.000%, Validation acc: 0.924%\n",
      "Step: 6500, Minibatch loss: 0.461900, Minibatch acc: 0.953%, Validation acc: 0.924%\n",
      "Step: 7000, Minibatch loss: 0.172413, Minibatch acc: 1.000%, Validation acc: 0.930%\n",
      "Step: 7500, Minibatch loss: 0.267585, Minibatch acc: 0.953%, Validation acc: 0.927%\n",
      "Step: 8000, Minibatch loss: 0.129504, Minibatch acc: 1.000%, Validation acc: 0.930%\n",
      "Step: 8500, Minibatch loss: 0.186033, Minibatch acc: 1.000%, Validation acc: 0.938%\n",
      "Step: 9000, Minibatch loss: 0.134603, Minibatch acc: 0.984%, Validation acc: 0.933%\n",
      "Step: 9500, Minibatch loss: 0.162978, Minibatch acc: 0.984%, Validation acc: 0.939%\n",
      "Step: 10000, Minibatch loss: 0.169045, Minibatch acc: 1.000%, Validation acc: 0.941%\n",
      "Step: 10500, Minibatch loss: 0.081548, Minibatch acc: 1.000%, Validation acc: 0.938%\n",
      "Step: 11000, Minibatch loss: 0.204696, Minibatch acc: 1.000%, Validation acc: 0.942%\n",
      "Step: 11500, Minibatch loss: 0.202213, Minibatch acc: 0.984%, Validation acc: 0.944%\n",
      "Step: 12000, Minibatch loss: 0.248725, Minibatch acc: 0.984%, Validation acc: 0.946%\n",
      "Step: 12500, Minibatch loss: 0.282468, Minibatch acc: 0.969%, Validation acc: 0.948%\n",
      "Step: 13000, Minibatch loss: 0.178427, Minibatch acc: 1.000%, Validation acc: 0.940%\n",
      "Step: 13500, Minibatch loss: 0.129141, Minibatch acc: 1.000%, Validation acc: 0.941%\n",
      "Step: 14000, Minibatch loss: 0.150398, Minibatch acc: 1.000%, Validation acc: 0.938%\n",
      "Step: 14500, Minibatch loss: 0.099708, Minibatch acc: 1.000%, Validation acc: 0.938%\n",
      "Step: 15000, Minibatch loss: 0.284938, Minibatch acc: 0.984%, Validation acc: 0.944%\n",
      "Step: 15500, Minibatch loss: 0.133950, Minibatch acc: 0.984%, Validation acc: 0.948%\n",
      "Step: 16000, Minibatch loss: 0.193269, Minibatch acc: 1.000%, Validation acc: 0.948%\n",
      "Step: 16500, Minibatch loss: 0.099550, Minibatch acc: 1.000%, Validation acc: 0.943%\n",
      "Step: 17000, Minibatch loss: 0.201419, Minibatch acc: 0.984%, Validation acc: 0.944%\n",
      "Step: 17500, Minibatch loss: 0.157532, Minibatch acc: 1.000%, Validation acc: 0.950%\n",
      "Step: 18000, Minibatch loss: 0.150142, Minibatch acc: 1.000%, Validation acc: 0.946%\n",
      "Step: 18500, Minibatch loss: 0.045375, Minibatch acc: 1.000%, Validation acc: 0.947%\n",
      "Step: 19000, Minibatch loss: 0.062369, Minibatch acc: 1.000%, Validation acc: 0.943%\n",
      "Step: 19500, Minibatch loss: 0.141367, Minibatch acc: 1.000%, Validation acc: 0.948%\n",
      "Step: 20000, Minibatch loss: 0.077885, Minibatch acc: 1.000%, Validation acc: 0.949%\n",
      "Step: 20500, Minibatch loss: 0.044986, Minibatch acc: 1.000%, Validation acc: 0.946%\n",
      "Step: 21000, Minibatch loss: 0.253247, Minibatch acc: 1.000%, Validation acc: 0.946%\n",
      "Step: 21500, Minibatch loss: 0.118838, Minibatch acc: 1.000%, Validation acc: 0.950%\n",
      "Step: 22000, Minibatch loss: 0.098994, Minibatch acc: 1.000%, Validation acc: 0.944%\n",
      "Step: 22500, Minibatch loss: 0.097719, Minibatch acc: 1.000%, Validation acc: 0.949%\n",
      "Step: 23000, Minibatch loss: 0.105503, Minibatch acc: 1.000%, Validation acc: 0.947%\n",
      "Step: 23500, Minibatch loss: 0.173797, Minibatch acc: 0.984%, Validation acc: 0.946%\n",
      "Step: 24000, Minibatch loss: 0.096712, Minibatch acc: 1.000%, Validation acc: 0.944%\n",
      "Step: 24500, Minibatch loss: 0.140096, Minibatch acc: 1.000%, Validation acc: 0.946%\n",
      "Step: 25000, Minibatch loss: 0.124798, Minibatch acc: 1.000%, Validation acc: 0.941%\n",
      "Step: 25500, Minibatch loss: 0.088386, Minibatch acc: 1.000%, Validation acc: 0.946%\n",
      "Step: 26000, Minibatch loss: 0.149345, Minibatch acc: 1.000%, Validation acc: 0.951%\n",
      "Step: 26500, Minibatch loss: 0.094669, Minibatch acc: 1.000%, Validation acc: 0.945%\n",
      "Step: 27000, Minibatch loss: 0.104028, Minibatch acc: 0.984%, Validation acc: 0.946%\n",
      "Step: 27500, Minibatch loss: 0.041365, Minibatch acc: 1.000%, Validation acc: 0.949%\n",
      "Step: 28000, Minibatch loss: 0.046386, Minibatch acc: 1.000%, Validation acc: 0.945%\n",
      "Step: 28500, Minibatch loss: 0.067340, Minibatch acc: 1.000%, Validation acc: 0.945%\n",
      "Step: 29000, Minibatch loss: 0.097421, Minibatch acc: 1.000%, Validation acc: 0.946%\n",
      "Step: 29500, Minibatch loss: 0.081388, Minibatch acc: 1.000%, Validation acc: 0.949%\n",
      "Step: 30000, Minibatch loss: 0.036747, Minibatch acc: 1.000%, Validation acc: 0.951%\n",
      "Step: 30500, Minibatch loss: 0.161099, Minibatch acc: 1.000%, Validation acc: 0.950%\n",
      "Step: 31000, Minibatch loss: 0.068272, Minibatch acc: 1.000%, Validation acc: 0.952%\n",
      "Step: 31500, Minibatch loss: 0.026837, Minibatch acc: 1.000%, Validation acc: 0.949%\n",
      "Step: 32000, Minibatch loss: 0.106105, Minibatch acc: 1.000%, Validation acc: 0.950%\n",
      "Step: 32500, Minibatch loss: 0.142384, Minibatch acc: 1.000%, Validation acc: 0.951%\n",
      "Step: 33000, Minibatch loss: 0.062908, Minibatch acc: 1.000%, Validation acc: 0.951%\n",
      "Step: 33500, Minibatch loss: 0.074638, Minibatch acc: 1.000%, Validation acc: 0.952%\n",
      "Step: 34000, Minibatch loss: 0.084225, Minibatch acc: 1.000%, Validation acc: 0.951%\n",
      "Step: 34500, Minibatch loss: 0.069461, Minibatch acc: 1.000%, Validation acc: 0.949%\n",
      "Step: 35000, Minibatch loss: 0.045519, Minibatch acc: 1.000%, Validation acc: 0.947%\n",
      "Step: 35500, Minibatch loss: 0.058909, Minibatch acc: 0.984%, Validation acc: 0.946%\n",
      "Step: 36000, Minibatch loss: 0.028962, Minibatch acc: 1.000%, Validation acc: 0.946%\n",
      "Step: 36500, Minibatch loss: 0.062982, Minibatch acc: 1.000%, Validation acc: 0.948%\n",
      "Step: 37000, Minibatch loss: 0.058208, Minibatch acc: 1.000%, Validation acc: 0.950%\n",
      "Step: 37500, Minibatch loss: 0.013270, Minibatch acc: 1.000%, Validation acc: 0.949%\n",
      "Step: 38000, Minibatch loss: 0.031277, Minibatch acc: 1.000%, Validation acc: 0.951%\n",
      "Step: 38500, Minibatch loss: 0.072534, Minibatch acc: 1.000%, Validation acc: 0.950%\n",
      "Step: 39000, Minibatch loss: 0.204474, Minibatch acc: 1.000%, Validation acc: 0.947%\n",
      "Step: 39500, Minibatch loss: 0.134677, Minibatch acc: 1.000%, Validation acc: 0.951%\n",
      "Step: 40000, Minibatch loss: 0.136334, Minibatch acc: 1.000%, Validation acc: 0.951%\n",
      "Step: 40500, Minibatch loss: 0.020951, Minibatch acc: 1.000%, Validation acc: 0.951%\n",
      "Step: 41000, Minibatch loss: 0.033813, Minibatch acc: 1.000%, Validation acc: 0.947%\n",
      "Step: 41500, Minibatch loss: 0.074729, Minibatch acc: 1.000%, Validation acc: 0.946%\n",
      "Step: 42000, Minibatch loss: 0.041900, Minibatch acc: 1.000%, Validation acc: 0.951%\n",
      "Step: 42500, Minibatch loss: 0.018384, Minibatch acc: 1.000%, Validation acc: 0.950%\n",
      "Step: 43000, Minibatch loss: 0.081519, Minibatch acc: 1.000%, Validation acc: 0.951%\n",
      "Step: 43500, Minibatch loss: 0.062444, Minibatch acc: 1.000%, Validation acc: 0.950%\n",
      "Step: 44000, Minibatch loss: 0.040541, Minibatch acc: 1.000%, Validation acc: 0.954%\n",
      "Step: 44500, Minibatch loss: 0.022937, Minibatch acc: 1.000%, Validation acc: 0.951%\n",
      "Step: 45000, Minibatch loss: 0.062602, Minibatch acc: 1.000%, Validation acc: 0.952%\n",
      "Step: 45500, Minibatch loss: 0.014563, Minibatch acc: 1.000%, Validation acc: 0.951%\n",
      "Step: 46000, Minibatch loss: 0.025026, Minibatch acc: 1.000%, Validation acc: 0.948%\n",
      "Step: 46500, Minibatch loss: 0.070334, Minibatch acc: 1.000%, Validation acc: 0.950%\n",
      "Step: 47000, Minibatch loss: 0.088178, Minibatch acc: 1.000%, Validation acc: 0.949%\n",
      "Step: 47500, Minibatch loss: 0.023173, Minibatch acc: 1.000%, Validation acc: 0.951%\n",
      "Step: 48000, Minibatch loss: 0.067460, Minibatch acc: 1.000%, Validation acc: 0.951%\n",
      "Step: 48500, Minibatch loss: 0.031658, Minibatch acc: 1.000%, Validation acc: 0.954%\n",
      "Step: 49000, Minibatch loss: 0.068880, Minibatch acc: 1.000%, Validation acc: 0.949%\n",
      "Step: 49500, Minibatch loss: 0.171587, Minibatch acc: 1.000%, Validation acc: 0.951%\n",
      "Step: 50000, Minibatch loss: 0.071109, Minibatch acc: 1.000%, Validation acc: 0.952%\n",
      "Model saved in file: CNN_20170409_1.ckpt\n",
      "Time to train: 1982.99\n",
      "Model train complete\n"
     ]
    }
   ],
   "source": [
    "num_steps = 50001\n",
    "\n",
    "val_accs=[]\n",
    "test_accs=[]\n",
    "minbat_accs=[]\n",
    "\n",
    "t0 = t.time()\n",
    "\n",
    "with tf.Session(graph=graph) as session:\n",
    "    session.run(tf.global_variables_initializer())\n",
    "\n",
    "    print('Initialized')\n",
    "    for step in range(num_steps):\n",
    "        #print('step: %d' % step)\n",
    "        offset = (step * batch_size) % (y_train.shape[0] - batch_size)\n",
    "        batch_data = X_train[offset:(offset + batch_size), :, :, :]\n",
    "        batch_labels = y_train[offset:(offset + batch_size)]\n",
    "        feed_dict = {tf_train_dataset : batch_data, tf_train_labels : batch_labels}\n",
    "        _, l, predictions = session.run(\n",
    "          [optimizer, loss, train_prediction], feed_dict=feed_dict)\n",
    "\n",
    "#         accuracy(predictions, batch_labels)\n",
    "        \n",
    "        if (step % 500 == 0): \n",
    "            minbat_acc=accuracy(predictions, batch_labels)\n",
    "            minbat_accs.append(minbat_acc)\n",
    "            val_acc=accuracy(valid_prediction.eval(), y_valid)\n",
    "            val_accs.append(val_acc)\n",
    "            #test_acc=accuracy(test_prediction.eval(), y_test)\n",
    "            #test_accs.append(test_acc)\n",
    "            print('Step: %d, Minibatch loss: %f, Minibatch acc: %.3f%%, Validation acc: %.3f%%' \n",
    "                  % (step, l, minbat_acc, val_acc))\n",
    "    #print('Test accuracy: %.1f%%' % accuracy(test_prediction.eval(), test_labels[:,1:6]))\n",
    "    save_path = saver.save(session, \"CNN_20170409_1.ckpt\")\n",
    "    print(\"Model saved in file: %s\" % save_path)\n",
    "#\n",
    "t1=t.time()\n",
    "print('Time to train: %.2f' %round(t1-t0,3))\n",
    "\n",
    "#\n",
    "print(\"Model train complete\")"
   ]
  },
  {
   "cell_type": "code",
   "execution_count": 114,
   "metadata": {
    "collapsed": false
   },
   "outputs": [
    {
     "name": "stdout",
     "output_type": "stream",
     "text": [
      "Model restored.\n",
      "Initialized\n",
      "Done\n",
      "Test accuracy: 0.93\n"
     ]
    }
   ],
   "source": [
    "with tf.Session(graph=graph) as session:\n",
    "    saver.restore(session, \"./CNN_20170409_1.ckpt\")\n",
    "    print(\"Model restored.\")  \n",
    "\n",
    "    print('Initialized')\n",
    "    test_prediction = session.run(test_prediction, feed_dict={tf_test_dataset : X_test})\n",
    "    print('Done')\n",
    "\n",
    "acc = accuracy(test_prediction, y_test)\n",
    "print('Test accuracy: %.2f'%(acc))"
   ]
  },
  {
   "cell_type": "code",
   "execution_count": 115,
   "metadata": {
    "collapsed": false
   },
   "outputs": [
    {
     "data": {
      "image/png": "[encoded data removed]",
      "text/plain": [
       "<matplotlib.figure.Figure at 0x7f284ee487f0>"
      ]
     },
     "metadata": {},
     "output_type": "display_data"
    }
   ],
   "source": [
    "# plot graph of training and validation accuracies\n",
    "plt.plot(list(range(len(minbat_accs))),minbat_accs, 'r--', list(range(len(val_accs))), val_accs, 'b--')\n",
    "plt.title('num_steps: '+str(num_steps)+ ', BatchSize: '+str(batch_size)+ ' Regularization')\n",
    "plt.xlabel('num_steps')\n",
    "plt.ylabel('Accuracies')\n",
    "fig = plt.gcf()"
   ]
  },
  {
   "cell_type": "code",
   "execution_count": null,
   "metadata": {
    "collapsed": true
   },
   "outputs": [],
   "source": []
  },
  {
   "cell_type": "code",
   "execution_count": null,
   "metadata": {
    "collapsed": true
   },
   "outputs": [],
   "source": []
  },
  {
   "cell_type": "code",
   "execution_count": null,
   "metadata": {
    "collapsed": true
   },
   "outputs": [],
   "source": []
  },
  {
   "cell_type": "code",
   "execution_count": null,
   "metadata": {
    "collapsed": true
   },
   "outputs": [],
   "source": []
  },
  {
   "cell_type": "code",
   "execution_count": null,
   "metadata": {
    "collapsed": true
   },
   "outputs": [],
   "source": []
  },
  {
   "cell_type": "code",
   "execution_count": 107,
   "metadata": {
    "collapsed": false
   },
   "outputs": [],
   "source": [
    "def accuracy(preds, labels):\n",
    "    #acc = 100.0 * np.sum(np.argmax(preds==labels))/len(labels)\n",
    "    n_total = len(labels)\n",
    "    n_correct = 0.\n",
    "    for j in range(len(labels)):\n",
    "        if labels[j] == np.argmax(preds[j]):\n",
    "            n_correct += 1.\n",
    "            \n",
    "    acc = n_correct/n_total\n",
    "    #print(acc)\n",
    "    return acc"
   ]
  },
  {
   "cell_type": "code",
   "execution_count": null,
   "metadata": {
    "collapsed": true
   },
   "outputs": [],
   "source": []
  },
  {
   "cell_type": "code",
   "execution_count": null,
   "metadata": {
    "collapsed": true
   },
   "outputs": [],
   "source": []
  },
  {
   "cell_type": "code",
   "execution_count": null,
   "metadata": {
    "collapsed": true
   },
   "outputs": [],
   "source": []
  },
  {
   "cell_type": "code",
   "execution_count": null,
   "metadata": {
    "collapsed": true
   },
   "outputs": [],
   "source": []
  },
  {
   "cell_type": "code",
   "execution_count": null,
   "metadata": {
    "collapsed": true
   },
   "outputs": [],
   "source": []
  },
  {
   "cell_type": "code",
   "execution_count": null,
   "metadata": {
    "collapsed": true
   },
   "outputs": [],
   "source": []
  },
  {
   "cell_type": "code",
   "execution_count": null,
   "metadata": {
    "collapsed": true
   },
   "outputs": [],
   "source": []
  },
  {
   "cell_type": "code",
   "execution_count": null,
   "metadata": {
    "collapsed": true
   },
   "outputs": [],
   "source": []
  },
  {
   "cell_type": "code",
   "execution_count": null,
   "metadata": {
    "collapsed": true
   },
   "outputs": [],
   "source": []
  },
  {
   "cell_type": "code",
   "execution_count": null,
   "metadata": {
    "collapsed": true
   },
   "outputs": [],
   "source": []
  },
  {
   "cell_type": "code",
   "execution_count": null,
   "metadata": {
    "collapsed": true
   },
   "outputs": [],
   "source": []
  },
  {
   "cell_type": "code",
   "execution_count": null,
   "metadata": {
    "collapsed": true
   },
   "outputs": [],
   "source": []
  },
  {
   "cell_type": "code",
   "execution_count": null,
   "metadata": {
    "collapsed": true
   },
   "outputs": [],
   "source": []
  },
  {
   "cell_type": "code",
   "execution_count": null,
   "metadata": {
    "collapsed": true
   },
   "outputs": [],
   "source": []
  },
  {
   "cell_type": "code",
   "execution_count": null,
   "metadata": {
    "collapsed": true
   },
   "outputs": [],
   "source": []
  },
  {
   "cell_type": "markdown",
   "metadata": {},
   "source": [
    "### Train, Validate and Test the Model"
   ]
  },
  {
   "cell_type": "markdown",
   "metadata": {},
   "source": [
    "A validation set can be used to assess how well the model is performing. A low accuracy on the training and validation\n",
    "sets imply underfitting. A high accuracy on the training set but low accuracy on the validation set implies overfitting."
   ]
  },
  {
   "cell_type": "code",
   "execution_count": 98,
   "metadata": {
    "collapsed": true
   },
   "outputs": [],
   "source": [
    "### Train your model here.\n",
    "### Calculate and report the accuracy on the training and validation set.\n",
    "### Once a final model architecture is selected, \n",
    "### the accuracy on the test set should be calculated and reported as well.\n",
    "### Feel free to use as many code cells as needed."
   ]
  },
  {
   "cell_type": "markdown",
   "metadata": {},
   "source": [
    "---\n",
    "\n",
    "## Step 3: Test a Model on New Images\n",
    "\n",
    "To give yourself more insight into how your model is working, download at least five pictures of German traffic signs from the web and use your model to predict the traffic sign type.\n",
    "\n",
    "You may find `signnames.csv` useful as it contains mappings from the class id (integer) to the actual sign name."
   ]
  },
  {
   "cell_type": "markdown",
   "metadata": {},
   "source": [
    "### Load and Output the Images"
   ]
  },
  {
   "cell_type": "code",
   "execution_count": null,
   "metadata": {
    "collapsed": true
   },
   "outputs": [],
   "source": [
    "### Load the images and plot them here.\n",
    "### Feel free to use as many code cells as needed."
   ]
  },
  {
   "cell_type": "markdown",
   "metadata": {},
   "source": [
    "### Predict the Sign Type for Each Image"
   ]
  },
  {
   "cell_type": "code",
   "execution_count": 3,
   "metadata": {
    "collapsed": true
   },
   "outputs": [],
   "source": [
    "### Run the predictions here and use the model to output the prediction for each image.\n",
    "### Make sure to pre-process the images with the same pre-processing pipeline used earlier.\n",
    "### Feel free to use as many code cells as needed."
   ]
  },
  {
   "cell_type": "markdown",
   "metadata": {},
   "source": [
    "### Analyze Performance"
   ]
  },
  {
   "cell_type": "code",
   "execution_count": 4,
   "metadata": {
    "collapsed": true
   },
   "outputs": [],
   "source": [
    "### Calculate the accuracy for these 5 new images. \n",
    "### For example, if the model predicted 1 out of 5 signs correctly, it's 20% accurate on these new images."
   ]
  },
  {
   "cell_type": "markdown",
   "metadata": {},
   "source": [
    "### Output Top 5 Softmax Probabilities For Each Image Found on the Web"
   ]
  },
  {
   "cell_type": "markdown",
   "metadata": {},
   "source": [
    "For each of the new images, print out the model's softmax probabilities to show the **certainty** of the model's predictions (limit the output to the top 5 probabilities for each image). [`tf.nn.top_k`](https://www.tensorflow.org/versions/r0.12/api_docs/python/nn.html#top_k) could prove helpful here. \n",
    "\n",
    "The example below demonstrates how tf.nn.top_k can be used to find the top k predictions for each image.\n",
    "\n",
    "`tf.nn.top_k` will return the values and indices (class ids) of the top k predictions. So if k=3, for each sign, it'll return the 3 largest probabilities (out of a possible 43) and the correspoding class ids.\n",
    "\n",
    "Take this numpy array as an example. The values in the array represent predictions. The array contains softmax probabilities for five candidate images with six possible classes. `tk.nn.top_k` is used to choose the three classes with the highest probability:\n",
    "\n",
    "```\n",
    "# (5, 6) array\n",
    "a = np.array([[ 0.24879643,  0.07032244,  0.12641572,  0.34763842,  0.07893497,\n",
    "         0.12789202],\n",
    "       [ 0.28086119,  0.27569815,  0.08594638,  0.0178669 ,  0.18063401,\n",
    "         0.15899337],\n",
    "       [ 0.26076848,  0.23664738,  0.08020603,  0.07001922,  0.1134371 ,\n",
    "         0.23892179],\n",
    "       [ 0.11943333,  0.29198961,  0.02605103,  0.26234032,  0.1351348 ,\n",
    "         0.16505091],\n",
    "       [ 0.09561176,  0.34396535,  0.0643941 ,  0.16240774,  0.24206137,\n",
    "         0.09155967]])\n",
    "```\n",
    "\n",
    "Running it through `sess.run(tf.nn.top_k(tf.constant(a), k=3))` produces:\n",
    "\n",
    "```\n",
    "TopKV2(values=array([[ 0.34763842,  0.24879643,  0.12789202],\n",
    "       [ 0.28086119,  0.27569815,  0.18063401],\n",
    "       [ 0.26076848,  0.23892179,  0.23664738],\n",
    "       [ 0.29198961,  0.26234032,  0.16505091],\n",
    "       [ 0.34396535,  0.24206137,  0.16240774]]), indices=array([[3, 0, 5],\n",
    "       [0, 1, 4],\n",
    "       [0, 5, 1],\n",
    "       [1, 3, 5],\n",
    "       [1, 4, 3]], dtype=int32))\n",
    "```\n",
    "\n",
    "Looking just at the first row we get `[ 0.34763842,  0.24879643,  0.12789202]`, you can confirm these are the 3 largest probabilities in `a`. You'll also notice `[3, 0, 5]` are the corresponding indices."
   ]
  },
  {
   "cell_type": "code",
   "execution_count": 6,
   "metadata": {
    "collapsed": true
   },
   "outputs": [],
   "source": [
    "### Print out the top five softmax probabilities for the predictions on the German traffic sign images found on the web. \n",
    "### Feel free to use as many code cells as needed."
   ]
  },
  {
   "cell_type": "markdown",
   "metadata": {},
   "source": [
    "---\n",
    "\n",
    "## Step 4: Visualize the Neural Network's State with Test Images\n",
    "\n",
    " This Section is not required to complete but acts as an additional excersise for understaning the output of a neural network's weights. While neural networks can be a great learning device they are often referred to as a black box. We can understand what the weights of a neural network look like better by plotting their feature maps. After successfully training your neural network you can see what it's feature maps look like by plotting the output of the network's weight layers in response to a test stimuli image. From these plotted feature maps, it's possible to see what characteristics of an image the network finds interesting. For a sign, maybe the inner network feature maps react with high activation to the sign's boundary outline or to the contrast in the sign's painted symbol.\n",
    "\n",
    " Provided for you below is the function code that allows you to get the visualization output of any tensorflow weight layer you want. The inputs to the function should be a stimuli image, one used during training or a new one you provided, and then the tensorflow variable name that represents the layer's state during the training process, for instance if you wanted to see what the [LeNet lab's](https://classroom.udacity.com/nanodegrees/nd013/parts/fbf77062-5703-404e-b60c-95b78b2f3f9e/modules/6df7ae49-c61c-4bb2-a23e-6527e69209ec/lessons/601ae704-1035-4287-8b11-e2c2716217ad/concepts/d4aca031-508f-4e0b-b493-e7b706120f81) feature maps looked like for it's second convolutional layer you could enter conv2 as the tf_activation variable.\n",
    "\n",
    "For an example of what feature map outputs look like, check out NVIDIA's results in their paper [End-to-End Deep Learning for Self-Driving Cars](https://devblogs.nvidia.com/parallelforall/deep-learning-self-driving-cars/) in the section Visualization of internal CNN State. NVIDIA was able to show that their network's inner weights had high activations to road boundary lines by comparing feature maps from an image with a clear path to one without. Try experimenting with a similar test to show that your trained network's weights are looking for interesting features, whether it's looking at differences in feature maps from images with or without a sign, or even what feature maps look like in a trained network vs a completely untrained one on the same sign image.\n",
    "\n",
    "<figure>\n",
    " <img src=\"visualize_cnn.png\" width=\"380\" alt=\"Combined Image\" />\n",
    " <figcaption>\n",
    " <p></p> \n",
    " <p style=\"text-align: center;\"> Your output should look something like this (above)</p> \n",
    " </figcaption>\n",
    "</figure>\n",
    " <p></p> \n"
   ]
  },
  {
   "cell_type": "code",
   "execution_count": null,
   "metadata": {
    "collapsed": true
   },
   "outputs": [],
   "source": [
    "### Visualize your network's feature maps here.\n",
    "### Feel free to use as many code cells as needed.\n",
    "\n",
    "# image_input: the test image being fed into the network to produce the feature maps\n",
    "# tf_activation: should be a tf variable name used during your training procedure that represents the calculated state of a specific weight layer\n",
    "# activation_min/max: can be used to view the activation contrast in more detail, by default matplot sets min and max to the actual min and max values of the output\n",
    "# plt_num: used to plot out multiple different weight feature map sets on the same block, just extend the plt number for each new feature map entry\n",
    "\n",
    "def outputFeatureMap(image_input, tf_activation, activation_min=-1, activation_max=-1 ,plt_num=1):\n",
    "    # Here make sure to preprocess your image_input in a way your network expects\n",
    "    # with size, normalization, ect if needed\n",
    "    # image_input =\n",
    "    # Note: x should be the same name as your network's tensorflow data placeholder variable\n",
    "    # If you get an error tf_activation is not defined it maybe having trouble accessing the variable from inside a function\n",
    "    activation = tf_activation.eval(session=sess,feed_dict={x : image_input})\n",
    "    featuremaps = activation.shape[3]\n",
    "    plt.figure(plt_num, figsize=(15,15))\n",
    "    for featuremap in range(featuremaps):\n",
    "        plt.subplot(6,8, featuremap+1) # sets the number of feature maps to show on each row and column\n",
    "        plt.title('FeatureMap ' + str(featuremap)) # displays the feature map number\n",
    "        if activation_min != -1 & activation_max != -1:\n",
    "            plt.imshow(activation[0,:,:, featuremap], interpolation=\"nearest\", vmin =activation_min, vmax=activation_max, cmap=\"gray\")\n",
    "        elif activation_max != -1:\n",
    "            plt.imshow(activation[0,:,:, featuremap], interpolation=\"nearest\", vmax=activation_max, cmap=\"gray\")\n",
    "        elif activation_min !=-1:\n",
    "            plt.imshow(activation[0,:,:, featuremap], interpolation=\"nearest\", vmin=activation_min, cmap=\"gray\")\n",
    "        else:\n",
    "            plt.imshow(activation[0,:,:, featuremap], interpolation=\"nearest\", cmap=\"gray\")"
   ]
  },
  {
   "cell_type": "markdown",
   "metadata": {},
   "source": [
    "### Question 9\n",
    "\n",
    "Discuss how you used the visual output of your trained network's feature maps to show that it had learned to look for interesting characteristics in traffic sign images\n"
   ]
  },
  {
   "cell_type": "markdown",
   "metadata": {},
   "source": [
    "**Answer:**"
   ]
  },
  {
   "cell_type": "markdown",
   "metadata": {},
   "source": [
    "> **Note**: Once you have completed all of the code implementations and successfully answered each question above, you may finalize your work by exporting the iPython Notebook as an HTML document. You can do this by using the menu above and navigating to  \\n\",\n",
    "    \"**File -> Download as -> HTML (.html)**. Include the finished document along with this notebook as your submission."
   ]
  },
  {
   "cell_type": "markdown",
   "metadata": {},
   "source": [
    "### Project Writeup\n",
    "\n",
    "Once you have completed the code implementation, document your results in a project writeup using this [template](https://github.com/udacity/CarND-Traffic-Sign-Classifier-Project/blob/master/writeup_template.md) as a guide. The writeup can be in a markdown or pdf file. "
   ]
  }
 ],
 "metadata": {
  "anaconda-cloud": {},
  "kernelspec": {
   "display_name": "Python 3",
   "language": "python",
   "name": "python3"
  },
  "language_info": {
   "codemirror_mode": {
    "name": "ipython",
    "version": 3
   },
   "file_extension": ".py",
   "mimetype": "text/x-python",
   "name": "python",
   "nbconvert_exporter": "python",
   "pygments_lexer": "ipython3",
   "version": "3.5.3"
  }
 },
 "nbformat": 4,
 "nbformat_minor": 1
}
